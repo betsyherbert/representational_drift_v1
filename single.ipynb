{
 "cells": [
  {
   "cell_type": "code",
   "execution_count": 4,
   "metadata": {},
   "outputs": [],
   "source": [
    "from modules import *\n",
    "from functions import *"
   ]
  },
  {
   "cell_type": "code",
   "execution_count": 11,
   "metadata": {},
   "outputs": [
    {
     "data": {
      "application/vnd.jupyter.widget-view+json": {
       "model_id": "6b252585d36f4a4b9bda7d9ea02c7b5f",
       "version_major": 2,
       "version_minor": 0
      },
      "text/plain": [
       "VBox(children=(HBox(children=(IntSlider(value=30, description='a', max=90, min=-30), IntSlider(value=30, descr…"
      ]
     },
     "metadata": {},
     "output_type": "display_data"
    }
   ],
   "source": [
    "\"\"\" Track final weights \"\"\"\n",
    "\n",
    "x = np.linspace(0, 0.3, 100)\n",
    "\n",
    "N = int(1000)                          # number of neurons \n",
    "theta_hat = 90                        # angle to which output neuron is tuned\n",
    "theta_stim = 90                       # stimulus angle\n",
    "all_angles = np.linspace(0, 180, N)   # stimulus space\n",
    "n_test_angles = 500\n",
    "\n",
    "def tweak_params(a, b, rand_scaling=1, hebb_scaling=1, learning_rate=0.01, n_thetas=100, n_trials=50):\n",
    "\n",
    "    W = circular_gaussian(N, theta_hat, amp=1, sigma=15, baseline=0); W /= np.sum(W)\n",
    "    POs = []; ratios = []\n",
    "    for trial in range(n_trials):\n",
    "\n",
    "        H = hebbian_component(N, W, n_thetas, theta_stim, type='baseline')\n",
    "        eta = abs(np.random.randn(N))\n",
    "        hebb_component = hebb_scaling * H * propensity_hebb(W, a)\n",
    "        rand_component = rand_scaling * eta * propensity_rand(W, b)   #  both use a for the moment\n",
    "        W += (hebb_component + rand_component) * learning_rate\n",
    "        normalisation(W) \n",
    "        # print(hebb_component.mean(), rand_component.mean())\n",
    "        ratios.append(np.mean(hebb_component) / (np.mean(rand_component) + 10e-10))\n",
    "        PO = get_preferred_orientation(N, W, n_angles=n_test_angles)\n",
    "        POs.append(PO)\n",
    "\n",
    "    print('Median ratio: ', np.median(ratios))\n",
    "\n",
    "    fig, axs = plt.subplots(1, 4, figsize=(14, 4), dpi=150)\n",
    "    markerline, stemline, baseline = axs[0].stem(all_angles, W, basefmt='k')\n",
    "    plt.setp(stemline, linewidth = 1, color='silver') \n",
    "    plt.setp(markerline, markersize = 3, color='k')\n",
    "\n",
    "    axs[0].axvline(theta_hat, color='r', linestyle='--', linewidth=1.5) \n",
    "    axs[0].axvline(theta_stim, color='orange', linestyle='--', linewidth=1.5) \n",
    "    # axs[0].axvline(np.sum((np.linspace(0, 180, N) * W)), color='b', linestyle='--', linewidth=1.5)    # mean of distribution \n",
    "    axs[0].set_xticks([0, 90, 180])\n",
    "    axs[0].set_xlabel(r'$\\mathbf{\\theta} \\; [^\\circ] $', fontweight='bold')\n",
    "    axs[0].set_ylabel(r'Weight', fontweight='bold')\n",
    "    axs[0].locator_params(nbins=3)\n",
    "    axs[0].set_ylim(0, 0.05)\n",
    "\n",
    "    axs[1].plot(POs, c='k')\n",
    "    # duplicate y axis\n",
    "    ax2 = axs[1].twinx()\n",
    "    ax2.plot(ratios, c='r', alpha=0.5)\n",
    "    ax2.set_ylim(0.5, 1.5)\n",
    "    axs[1].axhline(theta_hat, color='r', linestyle='--', linewidth=1.5)\n",
    "    axs[1].set_ylim(theta_hat - 20, theta_hat + 20)\n",
    "    # axs[1].set_ylim(10, 90)\n",
    "    axs[1].set_xlabel(r'Trials', fontweight='bold')\n",
    "    axs[1].set_ylabel(r'PO $[^\\circ]$', fontweight='bold')\n",
    "    axs[1].locator_params(nbins=4)\n",
    "\n",
    "    axs[2].plot(x, propensity_hebb(x, a), c='firebrick', lw=1.5)\n",
    "    axs[2].set_xlabel(r'Weight', fontweight='bold')\n",
    "    axs[2].set_ylabel(r'Propensity', fontweight='bold')\n",
    "    axs[2].set_ylim(0, 1.01)\n",
    "    axs[2].set_xlim(0, 0.3)\n",
    "    axs[2].locator_params(axis='y', nbins=3)\n",
    "\n",
    "    axs[3].plot(x, propensity_rand(x, b), c='firebrick', lw=1.5)\n",
    "    axs[3].set_xlabel(r'Weight', fontweight='bold')\n",
    "    axs[3].set_ylabel(r'Rand propensity', fontweight='bold')\n",
    "    axs[3].set_ylim(0, 1.01)\n",
    "    axs[3].set_xlim(0, 0.3)\n",
    "    axs[3].locator_params(axis='y', nbins=3)\n",
    "    fig.tight_layout(pad=2.5)\n",
    "\n",
    "widget = interactive(tweak_params, a=30, b=30, rand_scaling=(0, 2, 0.1), hebb_scaling=(0, 1, 0.1), learning_rate=(0, 0.1, 0.001), n_thetas=(1, 180), n_trials=(1, 200))\n",
    "controls = HBox(widget.children[:-1], layout=Layout(flex_flow='row wrap'))\n",
    "output = widget.children[-1]\n",
    "# display(widget) \n",
    "display(VBox([controls, output]))"
   ]
  },
  {
   "cell_type": "code",
   "execution_count": 48,
   "metadata": {},
   "outputs": [],
   "source": [
    "\"\"\" Track weights over trials \"\"\"\n",
    "\n",
    "N = int(500)                          # number of neurons \n",
    "theta_hat = 20                        # angle to which output neuron is tuned \n",
    "theta_stim = 90                       # stimulus angle\n",
    "all_angles = np.linspace(0, 180, N)   # stimulus space\n",
    "n_trials = 100 \n",
    "n_thetas = 100\n",
    "a=10    \n",
    "b=10 \n",
    "\n",
    "learning_rate = 0.1\n",
    "hebb_scaling = 1\n",
    "rand_scaling = 0\n",
    "\n",
    "W_init = circular_gaussian(N, theta_hat, amp=1, sigma=15, baseline=0); W_init /= np.sum(W_init)\n",
    "W = np.zeros((N, n_trials+1)); W[:, 0] = W_init\n",
    "hebbian = np.zeros((N, n_thetas, n_trials)); sum_hebbian = np.zeros((N, n_trials));\n",
    "prop_by_sum = np.zeros((N, n_trials)); prop_by_rand = np.zeros((N, n_trials)); total = np.zeros((N, n_trials))\n",
    "\n",
    "POs = []\n",
    "for trial in range(n_trials):\n",
    "    \n",
    "    thetas = np.random.choice(180, size=n_thetas, replace=False) \n",
    "    hebbs = np.zeros((N, n_thetas))\n",
    "    for i in range(n_thetas):\n",
    "        theta = theta_stim \n",
    "        # theta = thetas[i]\n",
    "        u = circular_gaussian(N, theta, amp=0.106, sigma=60, baseline=0)\n",
    "        v = W[:, trial].T.dot(u)  \n",
    "        hebbs[:, i] = (u * v)\n",
    "        \n",
    "    random = abs(np.random.randn(N)) * rand_scaling \n",
    "    sum_hebb = np.sum(np.array(hebbs), axis=1) * hebb_scaling \n",
    "    prop_hebb = propensity_hebb(W[:, trial], a)\n",
    "    prop_rand = propensity_rand(W[:, trial], b)\n",
    "\n",
    "    hebbian[:, :, trial] = hebbs; sum_hebbian[:, trial] = sum_hebb; prop_by_sum[:, trial] = prop_hebb * sum_hebb ; prop_by_rand[:, trial] = prop_rand * random\n",
    "    total[:, trial] = (prop_hebb * sum_hebb + prop_rand * random)\n",
    "\n",
    "    W_new = W[:, trial] + (prop_hebb * sum_hebb + prop_rand * random) * learning_rate\n",
    "    normalisation(W_new); W[:, trial+1] = W_new\n",
    "\n",
    "    PO = get_preferred_orientation(N, W[:, trial], n_angles=500)\n",
    "    POs.append(PO)"
   ]
  },
  {
   "cell_type": "code",
   "execution_count": 49,
   "metadata": {},
   "outputs": [
    {
     "data": {
      "application/vnd.jupyter.widget-view+json": {
       "model_id": "6a0e654a1eb640a181c1eb349f167ce8",
       "version_major": 2,
       "version_minor": 0
      },
      "text/plain": [
       "interactive(children=(IntSlider(value=99, description='trial'), Output()), _dom_classes=('widget-interact',))"
      ]
     },
     "metadata": {},
     "output_type": "display_data"
    }
   ],
   "source": [
    "def plot_weights(trial=n_trials-1):\n",
    "    fig, axs = plt.subplots(1, 3, figsize=(12, 3.5), dpi=180)\n",
    "\n",
    "    offset = 3\n",
    "    lim = -3\n",
    "    scale = 1.2\n",
    "    for i in range(n_thetas):\n",
    "        axs[0].plot(hebbian[:, i, trial] / scale + offset, c='k', alpha=0.2)\n",
    "\n",
    "    axs[0].plot(sum_hebbian[:, trial], c='lightskyblue') #, clip_on=False)\n",
    "    axs[0].plot(prop_by_sum[:, trial], lw=1.2, c='yellowgreen')\n",
    "    axs[0].plot(prop_by_rand[:, trial], lw=1.2, c='darkorange')\n",
    "    \n",
    "    axs[0].plot(total[:, trial], lw=0.7, c='k')\n",
    "    axs[0].axis('off')  \n",
    "    axs[0].plot([0, N], [lim, lim], c='k', lw=2)\n",
    "    axs[0].set_ylim(lim, 5)\n",
    "\n",
    "    markerline, stemline, baseline = axs[1].stem(all_angles, W[:, trial]*0.9, basefmt='k')\n",
    "    plt.setp(stemline, linewidth = 1, color='silver') #, clip_on=False)\n",
    "    plt.setp(markerline, markersize = 3, color='k') #, clip_on=False)\n",
    "    axs[1].axvline(theta_stim, color='orange', linestyle='--', linewidth=1.5)\n",
    "    axs[1].axvline(theta_hat, color='r', linestyle='--', linewidth=1.5) \n",
    "    axs[1].set_xticks([0, 90, 180])\n",
    "    axs[1].set_xlabel(r'$\\mathbf{\\theta} \\; [^\\circ] $', fontweight='bold')\n",
    "    axs[1].set_ylabel(r'Weight', fontweight='bold')\n",
    "    axs[1].locator_params(nbins=3)\n",
    "    # axs[1].set_ylim(-0.001, 0.03)\n",
    "    axs[1].set_yticks([0, 0.04])\n",
    "\n",
    "    axs[2].plot(POs[:trial], c='k')\n",
    "    axs[2].axhline(theta_hat, color='r', linestyle='--', linewidth=1.5)\n",
    "    # axs[2].set_ylim(60, 120)\n",
    "    axs[2].set_ylim(10, 90)\n",
    "    axs[2].set_xlabel(r'Trials', fontweight='bold')\n",
    "    axs[2].set_ylabel(r'PO $[^\\circ]$', fontweight='bold')\n",
    "    axs[2].locator_params('y', nbins=4)\n",
    "    # axs[2].set_yticks([70, 90, 110])\n",
    "\n",
    "    fig.subplots_adjust(wspace=0.5)\n",
    "    sns.despine()\n",
    "    \n",
    "interact(plot_weights, trial=(0, n_trials));"
   ]
  },
  {
   "cell_type": "code",
   "execution_count": null,
   "metadata": {},
   "outputs": [],
   "source": []
  }
 ],
 "metadata": {
  "kernelspec": {
   "display_name": "drift 2",
   "language": "python",
   "name": "python3"
  },
  "language_info": {
   "codemirror_mode": {
    "name": "ipython",
    "version": 3
   },
   "file_extension": ".py",
   "mimetype": "text/x-python",
   "name": "python",
   "nbconvert_exporter": "python",
   "pygments_lexer": "ipython3",
   "version": "3.10.9"
  },
  "orig_nbformat": 4,
  "vscode": {
   "interpreter": {
    "hash": "fd7650aea0822ae05dcf176e2ed0901be08f4fc732776693377ded011ec53f5a"
   }
  }
 },
 "nbformat": 4,
 "nbformat_minor": 2
}
